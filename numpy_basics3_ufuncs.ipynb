{
 "cells": [
  {
   "cell_type": "markdown",
   "metadata": {},
   "source": [
    "## numpy universal functions are fast one-sweep operations for arrays\n",
    "1.  They are instances of the numpy.ufunc class. Many of which are implemented in compiled C code.\n",
    "2.  There are over 60 ufuncs in numpy 1.7.  We will focus on the math ones here. \n",
    "3.  You can define custom ufunc instances using the frompyfunc factory function"
   ]
  },
  {
   "cell_type": "code",
   "execution_count": 3,
   "metadata": {
    "collapsed": true
   },
   "outputs": [],
   "source": [
    "import numpy as np"
   ]
  },
  {
   "cell_type": "markdown",
   "metadata": {},
   "source": [
    "<a id= 'back-to-top'></a>"
   ]
  },
  {
   "cell_type": "markdown",
   "metadata": {},
   "source": [
    "Math operations\n",
    "\n",
    "\n",
    "- add(x1, x2, /[, out, where, casting, order, …]) Add arguments element-wise. \n",
    "\n",
    "\n",
    "- subtract(x1, x2, /[, out, where, casting, …])对应元素相\n",
    "Subtract arguments, element-wise.\n",
    "\n",
    "\n",
    "- multiply(x1, x2, /[, out, where, casting, …]) 对应元素相乘\n",
    "Multiply arguments element-wise.\n",
    "\n",
    "\n",
    "- divide(x1, x2, /[, out, where, casting, …]) 对应元素相除\n",
    "Returns a true division of the inputs, element-wise.\n",
    "\n",
    "\n",
    "- logaddexp(x1, x2, /[, out, where, casting, …])\n",
    "Logarithm of the sum of exponentiations of the inputs.\n",
    "\n",
    "\n",
    "- logaddexp2(x1, x2, /[, out, where, casting, …])\n",
    "Logarithm of the sum of exponentiations of the inputs in base-2.\n",
    "\n",
    "\n",
    "- true_divide(x1, x2, /[, out, where, …])\n",
    "Returns a true division of the inputs, element-wise.\n",
    "\n",
    "\n",
    "- floor_divide(x1, x2, /[, out, where, …]) 对应元素相除，对返回值取整\n",
    "Return the largest integer smaller or equal to the division of the inputs. \n",
    "\n",
    "\n",
    "- negative(x, /[, out, where, casting, order, …]) \n",
    "Numerical negative, element-wise.\n",
    "\n",
    "\n",
    "- positive(x, /[, out, where, casting, order, …])\n",
    "Numerical positive, element-wise.\n",
    "\n",
    "\n",
    "- power(x1, x2, /[, out, where, casting, …])\n",
    "First array elements raised to powers from second array, element-wise.\n",
    "\n",
    "\n",
    "- remainder(x1, x2, /[, out, where, casting, …]) 余数\n",
    "Return element-wise remainder of division.\n",
    "\n",
    "\n",
    "- mod(x1, x2, /[, out, where, casting, order, …])\n",
    "Return element-wise remainder of division.\n",
    "\n",
    "\n",
    "- fmod(x1, x2, /[, out, where, casting, …])\n",
    "Return the element-wise remainder of division.\n",
    "\n",
    "\n",
    "- divmod(x1, x2[, out1, out2], / [[, out, …])\n",
    "Return element-wise quotient and remainder simultaneously.\n",
    "\n",
    "\n",
    "- absolute(x, /[, out, where, casting, order, …])\n",
    "Calculate the absolute value element-wise.\n",
    "\n",
    "\n",
    "- fabs(x, /[, out, where, casting, order, …])\n",
    "Compute the absolute values element-wise.\n",
    "\n",
    "\n",
    "- rint(x, /[, out, where, casting, order, …])\n",
    "Round elements of the array to the nearest integer.\n",
    "\n",
    "\n",
    "- sign(x, /[, out, where, casting, order, …])\n",
    "Returns an element-wise indication of the sign of a number.\n",
    "\n",
    "\n",
    "- heaviside(x1, x2, /[, out, where, casting, …])\n",
    "Compute the Heaviside step function.\n",
    "\n",
    "\n",
    "- conj(x, /[, out, where, casting, order, …])\n",
    "Return the complex conjugate, element-wise.\n",
    "\n",
    "\n",
    "- exp(x, /[, out, where, casting, order, …])\n",
    "Calculate the exponential of all elements in the input array.\n",
    "\n",
    "\n",
    "- exp2(x, /[, out, where, casting, order, …])\n",
    "Calculate 2**p for all p in the input array.\n",
    "\n",
    "\n",
    "- log(x, /[, out, where, casting, order, …])\n",
    "Natural logarithm, element-wise."
   ]
  }
 ],
 "metadata": {
  "kernelspec": {
   "display_name": "Python [default]",
   "language": "python",
   "name": "python3"
  },
  "language_info": {
   "codemirror_mode": {
    "name": "ipython",
    "version": 3
   },
   "file_extension": ".py",
   "mimetype": "text/x-python",
   "name": "python",
   "nbconvert_exporter": "python",
   "pygments_lexer": "ipython3",
   "version": "3.6.3"
  }
 },
 "nbformat": 4,
 "nbformat_minor": 2
}
